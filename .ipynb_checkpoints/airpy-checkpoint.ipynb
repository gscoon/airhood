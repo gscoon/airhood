{
 "cells": [
  {
   "cell_type": "markdown",
   "metadata": {
    "collapsed": false
   },
   "source": [
    "### AirBnB Scraping"
   ]
  },
  {
   "cell_type": "code",
   "execution_count": 64,
   "metadata": {
    "collapsed": true
   },
   "outputs": [],
   "source": [
    "# You tell Python that you want to use a library with the import statement.\n",
    "from pyquery import PyQuery as pq\n",
    "import requests\n",
    "import re\n",
    "cListURL = \"https://boston.craigslist.org/search/gbs/nfa?max_price=2000&query=private+entrance&hasPic=1&min_price=1000\"\n",
    "airURLBoston = \"http://www.airdna.co/city/us/massachusetts/boston/top\"\n",
    "airURLCambridge = \"http://www.airdna.co/city/us/massachusetts/cambridge/top\"\n"
   ]
  },
  {
   "cell_type": "code",
   "execution_count": 65,
   "metadata": {
    "collapsed": true
   },
   "outputs": [],
   "source": [
    "response = [requests.get(airURLBoston), requests.get(airURLCambridge)]"
   ]
  },
  {
   "cell_type": "code",
   "execution_count": 75,
   "metadata": {
    "collapsed": false
   },
   "outputs": [],
   "source": [
    "airArray = []\n",
    "locs = {}\n",
    "\n",
    "for r in response\n",
    "    doc = pq(r.content)\n",
    "    topTable = doc('div.row table')\n",
    "    airRow = topTable('tr')\n",
    "\n",
    "\n",
    "    for airRow in airRow[:1]:\n",
    "        lURL = pq(airRow)('a').attr('href')\n",
    "        lResponse = requests.get(lURL)\n",
    "        lDoc = pq(lResponse.content)\n",
    "        aObj = {'url': lURL, 'title': lDoc('title').text(), 'loc': ''}\n",
    "        reg = \"eighborhood&quot;:&quot;([a-zA-Z _-]+)\"\n",
    "        locReg = re.search(reg, lResponse.content)\n",
    "        if(bool(locReg)):  \n",
    "            loc = locReg.groups()[0]\n",
    "            if(loc not in locs):\n",
    "                locs[loc] = 0\n",
    "\n",
    "            locs[loc] = locs[loc] + 1\n",
    "            aObj['loc'] = loc\n",
    "        airArray.append(aObj)\n",
    "    \n",
    "#print airArray"
   ]
  },
  {
   "cell_type": "code",
   "execution_count": 76,
   "metadata": {
    "collapsed": false
   },
   "outputs": [
    {
     "name": "stdout",
     "output_type": "stream",
     "text": [
      "{'Neighborhood': 10, 'Beacon Hill': 1, 'South Boston': 18, 'Roxbury': 6, 'South End': 16, 'Chinatown': 1, 'East Boston': 16, 'North End': 16, 'Fenway': 3, 'Back Bay': 11, 'Government Center': 1, 'Allston-Brighton': 1}\n"
     ]
    }
   ],
   "source": [
    "print locs\n",
    "#data-reactid\n",
    "#.3.2.$LocationCard.0.0.0.0.0.1.0"
   ]
  },
  {
   "cell_type": "markdown",
   "metadata": {},
   "source": [
    "Bar chart shoring popularity of each neighborhood:"
   ]
  },
  {
   "cell_type": "code",
   "execution_count": 130,
   "metadata": {
    "collapsed": false
   },
   "outputs": [],
   "source": [
    "%matplotlib inline\n",
    "\n",
    "import pylab as plt\n",
    "import numpy as np\n",
    "import pandas as pd\n",
    "import operator\n",
    "import seaborn as sns\n"
   ]
  },
  {
   "cell_type": "code",
   "execution_count": 135,
   "metadata": {
    "collapsed": false
   },
   "outputs": [
    {
     "data": {
      "image/png": "[encoded data removed]",
      "text/plain": [
       "<matplotlib.figure.Figure at 0x1180fb38>"
      ]
     },
     "metadata": {},
     "output_type": "display_data"
    }
   ],
   "source": [
    "current_palette = sns.color_palette()\n",
    "sortedLocs = {}\n",
    "df = pd.DataFrame(locs)\n",
    "\n",
    "df.columns = ['Neighborhood', 'Count']\n",
    "df = df.sort('Count', ascending=0)\n",
    "df = df.reset_index()\n",
    "\n",
    "X = np.arange(0, len(df.index))\n",
    "\n",
    "plt.bar(df.index, df['Count'], color=current_palette , align='center')\n",
    "\n",
    "plt.xticks(df.index, df['Neighborhood'], rotation='vertical')\n",
    "plt.show()"
   ]
  }
 ],
 "metadata": {
  "kernelspec": {
   "display_name": "Python 2",
   "language": "python",
   "name": "python2"
  },
  "language_info": {
   "codemirror_mode": {
    "name": "ipython",
    "version": 2
   },
   "file_extension": ".py",
   "mimetype": "text/x-python",
   "name": "python",
   "nbconvert_exporter": "python",
   "pygments_lexer": "ipython2",
   "version": "2.7.10"
  }
 },
 "nbformat": 4,
 "nbformat_minor": 0
}
